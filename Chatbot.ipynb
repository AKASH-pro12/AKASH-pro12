{
  "nbformat": 4,
  "nbformat_minor": 0,
  "metadata": {
    "colab": {
      "provenance": [],
      "gpuType": "T4",
      "authorship_tag": "ABX9TyMN63nTmhoQ9Dx3zTBA+0a2",
      "include_colab_link": true
    },
    "kernelspec": {
      "name": "python3",
      "display_name": "Python 3"
    },
    "language_info": {
      "name": "python"
    },
    "accelerator": "GPU"
  },
  "cells": [
    {
      "cell_type": "markdown",
      "metadata": {
        "id": "view-in-github",
        "colab_type": "text"
      },
      "source": [
        "<a href=\"https://colab.research.google.com/github/AKASH-pro12/AKASH-pro12/blob/main/Chatbot.ipynb\" target=\"_parent\"><img src=\"https://colab.research.google.com/assets/colab-badge.svg\" alt=\"Open In Colab\"/></a>"
      ]
    },
    {
      "cell_type": "code",
      "source": [],
      "metadata": {
        "id": "xgsyQc4F3rIg"
      },
      "execution_count": null,
      "outputs": []
    },
    {
      "cell_type": "code",
      "execution_count": null,
      "metadata": {
        "colab": {
          "base_uri": "https://localhost:8080/"
        },
        "id": "HijHso9G2u3I",
        "outputId": "0808a511-86cb-4c3d-b9f8-59d244f476cb"
      },
      "outputs": [
        {
          "output_type": "stream",
          "name": "stdout",
          "text": [
            "ðŸŸ¢ Groq Terminal ChatBot - Type 'exit' to quit\n",
            "ðŸ‘¤ You: what would be the initial of thanver \n",
            "ðŸ¤– GroqBot: A reference to the popular Harry Potter series!\n",
            "\n",
            "In the series, \"Thanatos\" is Greek for \"Death\", and it is not the name of a character. However, if you meant to ask about the name \"Thestral\" which is a supernatural creature known for being able to see and interact with the spirits of the dead, the first letter would be \"T\".\n",
            "\n",
            "If you meant something else, please clarify!\n"
          ]
        }
      ],
      "source": [
        "import requests\n",
        "import os\n",
        "\n",
        "# ðŸ”‘ Replace with your actual Groq API key or use environment variable\n",
        "\n",
        "GROQ_API_KEY = os.getenv(\"GROQ_API_KEY\", \"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\")\n",
        "\n",
        "# ðŸ¤– Choose the model: Mixtral is smart and fast!\n",
        "MODEL = \"llama3-8b-8192\"\n",
        "\n",
        "# ðŸ” Chat loop\n",
        "print(\"ðŸŸ¢ Groq Terminal ChatBot - Type 'exit' to quit\")\n",
        "\n",
        "chat_history = []\n",
        "\n",
        "while True:\n",
        "    user_input = input(\"ðŸ‘¤ You: \")\n",
        "    if user_input.lower() == \"exit\":\n",
        "        print(\"ðŸ‘‹ Exiting chat. Bye!\")\n",
        "        break\n",
        "\n",
        "    # Add user message to chat history\n",
        "    chat_history.append({\"role\": \"user\", \"content\": user_input})\n",
        "\n",
        "    response = requests.post(\n",
        "        \"https://api.groq.com/openai/v1/chat/completions\",\n",
        "        headers={\n",
        "            \"Authorization\": f\"Bearer {GROQ_API_KEY}\",\n",
        "            \"Content-Type\": \"application/json\"\n",
        "        },\n",
        "        json={\n",
        "            \"model\": MODEL,\n",
        "            \"messages\": chat_history\n",
        "        }\n",
        "    )\n",
        "\n",
        "    if response.status_code == 200:\n",
        "        reply = response.json()[\"choices\"][0][\"message\"][\"content\"]\n",
        "        print(\"ðŸ¤– GroqBot:\", reply)\n",
        "        chat_history.append({\"role\": \"assistant\", \"content\": reply})\n",
        "    else:\n",
        "        print(\"âŒ Error:\", response.status_code, response.text)"
      ]
    }
  ]
}